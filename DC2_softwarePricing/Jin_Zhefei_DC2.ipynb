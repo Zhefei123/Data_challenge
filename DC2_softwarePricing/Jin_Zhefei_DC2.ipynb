{
 "cells": [
  {
   "cell_type": "code",
   "execution_count": 122,
   "metadata": {},
   "outputs": [],
   "source": [
    "import pandas as pd \n",
    "import numpy as py\n",
    "import matplotlib.pyplot as plt"
   ]
  },
  {
   "cell_type": "markdown",
   "metadata": {},
   "source": [
    "# Import data"
   ]
  },
  {
   "cell_type": "code",
   "execution_count": 3,
   "metadata": {},
   "outputs": [],
   "source": [
    "testdf = pd.read_csv('test_results.csv')"
   ]
  },
  {
   "cell_type": "code",
   "execution_count": 4,
   "metadata": {},
   "outputs": [
    {
     "data": {
      "text/html": [
       "<div>\n",
       "<style scoped>\n",
       "    .dataframe tbody tr th:only-of-type {\n",
       "        vertical-align: middle;\n",
       "    }\n",
       "\n",
       "    .dataframe tbody tr th {\n",
       "        vertical-align: top;\n",
       "    }\n",
       "\n",
       "    .dataframe thead th {\n",
       "        text-align: right;\n",
       "    }\n",
       "</style>\n",
       "<table border=\"1\" class=\"dataframe\">\n",
       "  <thead>\n",
       "    <tr style=\"text-align: right;\">\n",
       "      <th></th>\n",
       "      <th>Unnamed: 0</th>\n",
       "      <th>user_id</th>\n",
       "      <th>timestamp</th>\n",
       "      <th>source</th>\n",
       "      <th>device</th>\n",
       "      <th>operative_system</th>\n",
       "      <th>test</th>\n",
       "      <th>price</th>\n",
       "      <th>converted</th>\n",
       "    </tr>\n",
       "  </thead>\n",
       "  <tbody>\n",
       "    <tr>\n",
       "      <th>0</th>\n",
       "      <td>0</td>\n",
       "      <td>604839</td>\n",
       "      <td>2015-05-08 03:38:34</td>\n",
       "      <td>ads_facebook</td>\n",
       "      <td>mobile</td>\n",
       "      <td>iOS</td>\n",
       "      <td>0</td>\n",
       "      <td>39.0</td>\n",
       "      <td>0</td>\n",
       "    </tr>\n",
       "    <tr>\n",
       "      <th>1</th>\n",
       "      <td>1</td>\n",
       "      <td>624057</td>\n",
       "      <td>2015-05-10 21:08:46</td>\n",
       "      <td>seo-google</td>\n",
       "      <td>mobile</td>\n",
       "      <td>android</td>\n",
       "      <td>0</td>\n",
       "      <td>39.0</td>\n",
       "      <td>0</td>\n",
       "    </tr>\n",
       "    <tr>\n",
       "      <th>2</th>\n",
       "      <td>2</td>\n",
       "      <td>317970</td>\n",
       "      <td>2015-04-04 15:01:23</td>\n",
       "      <td>ads-bing</td>\n",
       "      <td>mobile</td>\n",
       "      <td>android</td>\n",
       "      <td>0</td>\n",
       "      <td>39.0</td>\n",
       "      <td>0</td>\n",
       "    </tr>\n",
       "    <tr>\n",
       "      <th>3</th>\n",
       "      <td>3</td>\n",
       "      <td>685636</td>\n",
       "      <td>2015-05-07 07:26:01</td>\n",
       "      <td>direct_traffic</td>\n",
       "      <td>mobile</td>\n",
       "      <td>iOS</td>\n",
       "      <td>1</td>\n",
       "      <td>59.0</td>\n",
       "      <td>0</td>\n",
       "    </tr>\n",
       "    <tr>\n",
       "      <th>4</th>\n",
       "      <td>4</td>\n",
       "      <td>820854</td>\n",
       "      <td>2015-05-24 11:04:40</td>\n",
       "      <td>ads_facebook</td>\n",
       "      <td>web</td>\n",
       "      <td>mac</td>\n",
       "      <td>0</td>\n",
       "      <td>39.0</td>\n",
       "      <td>0</td>\n",
       "    </tr>\n",
       "  </tbody>\n",
       "</table>\n",
       "</div>"
      ],
      "text/plain": [
       "   Unnamed: 0  user_id            timestamp          source  device  \\\n",
       "0           0   604839  2015-05-08 03:38:34    ads_facebook  mobile   \n",
       "1           1   624057  2015-05-10 21:08:46      seo-google  mobile   \n",
       "2           2   317970  2015-04-04 15:01:23        ads-bing  mobile   \n",
       "3           3   685636  2015-05-07 07:26:01  direct_traffic  mobile   \n",
       "4           4   820854  2015-05-24 11:04:40    ads_facebook     web   \n",
       "\n",
       "  operative_system  test  price  converted  \n",
       "0              iOS     0   39.0          0  \n",
       "1          android     0   39.0          0  \n",
       "2          android     0   39.0          0  \n",
       "3              iOS     1   59.0          0  \n",
       "4              mac     0   39.0          0  "
      ]
     },
     "execution_count": 4,
     "metadata": {},
     "output_type": "execute_result"
    }
   ],
   "source": [
    "testdf.head()"
   ]
  },
  {
   "cell_type": "code",
   "execution_count": 13,
   "metadata": {},
   "outputs": [
    {
     "name": "stdout",
     "output_type": "stream",
     "text": [
      "<class 'pandas.core.frame.DataFrame'>\n",
      "RangeIndex: 316800 entries, 0 to 316799\n",
      "Data columns (total 9 columns):\n",
      " #   Column            Non-Null Count   Dtype  \n",
      "---  ------            --------------   -----  \n",
      " 0   Unnamed: 0        316800 non-null  int64  \n",
      " 1   user_id           316800 non-null  int64  \n",
      " 2   timestamp         316466 non-null  object \n",
      " 3   source            316488 non-null  object \n",
      " 4   device            316800 non-null  object \n",
      " 5   operative_system  296461 non-null  object \n",
      " 6   test              316800 non-null  int64  \n",
      " 7   price             316800 non-null  float64\n",
      " 8   converted         316800 non-null  int64  \n",
      "dtypes: float64(1), int64(4), object(4)\n",
      "memory usage: 21.8+ MB\n"
     ]
    }
   ],
   "source": [
    "testdf.info()"
   ]
  },
  {
   "cell_type": "code",
   "execution_count": 5,
   "metadata": {},
   "outputs": [],
   "source": [
    "userdf = pd.read_csv('user_table.csv')"
   ]
  },
  {
   "cell_type": "code",
   "execution_count": 10,
   "metadata": {
    "scrolled": true
   },
   "outputs": [
    {
     "data": {
      "text/html": [
       "<div>\n",
       "<style scoped>\n",
       "    .dataframe tbody tr th:only-of-type {\n",
       "        vertical-align: middle;\n",
       "    }\n",
       "\n",
       "    .dataframe tbody tr th {\n",
       "        vertical-align: top;\n",
       "    }\n",
       "\n",
       "    .dataframe thead th {\n",
       "        text-align: right;\n",
       "    }\n",
       "</style>\n",
       "<table border=\"1\" class=\"dataframe\">\n",
       "  <thead>\n",
       "    <tr style=\"text-align: right;\">\n",
       "      <th></th>\n",
       "      <th>user_id</th>\n",
       "      <th>city</th>\n",
       "      <th>country</th>\n",
       "      <th>lat</th>\n",
       "      <th>long</th>\n",
       "    </tr>\n",
       "  </thead>\n",
       "  <tbody>\n",
       "    <tr>\n",
       "      <th>0</th>\n",
       "      <td>510335</td>\n",
       "      <td>Peabody</td>\n",
       "      <td>USA</td>\n",
       "      <td>42.53</td>\n",
       "      <td>-70.97</td>\n",
       "    </tr>\n",
       "    <tr>\n",
       "      <th>1</th>\n",
       "      <td>89568</td>\n",
       "      <td>Reno</td>\n",
       "      <td>USA</td>\n",
       "      <td>39.54</td>\n",
       "      <td>-119.82</td>\n",
       "    </tr>\n",
       "    <tr>\n",
       "      <th>2</th>\n",
       "      <td>434134</td>\n",
       "      <td>Rialto</td>\n",
       "      <td>USA</td>\n",
       "      <td>34.11</td>\n",
       "      <td>-117.39</td>\n",
       "    </tr>\n",
       "    <tr>\n",
       "      <th>3</th>\n",
       "      <td>289769</td>\n",
       "      <td>Carson City</td>\n",
       "      <td>USA</td>\n",
       "      <td>39.15</td>\n",
       "      <td>-119.74</td>\n",
       "    </tr>\n",
       "    <tr>\n",
       "      <th>4</th>\n",
       "      <td>939586</td>\n",
       "      <td>Chicago</td>\n",
       "      <td>USA</td>\n",
       "      <td>41.84</td>\n",
       "      <td>-87.68</td>\n",
       "    </tr>\n",
       "  </tbody>\n",
       "</table>\n",
       "</div>"
      ],
      "text/plain": [
       "   user_id         city country    lat    long\n",
       "0   510335      Peabody     USA  42.53  -70.97\n",
       "1    89568         Reno     USA  39.54 -119.82\n",
       "2   434134       Rialto     USA  34.11 -117.39\n",
       "3   289769  Carson City     USA  39.15 -119.74\n",
       "4   939586      Chicago     USA  41.84  -87.68"
      ]
     },
     "execution_count": 10,
     "metadata": {},
     "output_type": "execute_result"
    }
   ],
   "source": [
    "userdf.head()"
   ]
  },
  {
   "cell_type": "code",
   "execution_count": 11,
   "metadata": {},
   "outputs": [
    {
     "name": "stdout",
     "output_type": "stream",
     "text": [
      "<class 'pandas.core.frame.DataFrame'>\n",
      "RangeIndex: 275616 entries, 0 to 275615\n",
      "Data columns (total 5 columns):\n",
      " #   Column   Non-Null Count   Dtype  \n",
      "---  ------   --------------   -----  \n",
      " 0   user_id  275616 non-null  int64  \n",
      " 1   city     275616 non-null  object \n",
      " 2   country  275616 non-null  object \n",
      " 3   lat      275616 non-null  float64\n",
      " 4   long     275616 non-null  float64\n",
      "dtypes: float64(2), int64(1), object(2)\n",
      "memory usage: 10.5+ MB\n"
     ]
    }
   ],
   "source": [
    "userdf.info()"
   ]
  },
  {
   "cell_type": "markdown",
   "metadata": {},
   "source": [
    "In user table, there are 275616 rows data, but in test table, there are 316800 rows, so some of the customers do not have users infos. "
   ]
  },
  {
   "cell_type": "markdown",
   "metadata": {},
   "source": [
    "# Data processing and cleaning"
   ]
  },
  {
   "cell_type": "code",
   "execution_count": 68,
   "metadata": {},
   "outputs": [],
   "source": [
    "# NAN for testdf\n",
    "nancolumns = ['source','operative_system']\n",
    "for col in nancolumns:\n",
    "    testdf[col].fillna('nan', inplace = True) "
   ]
  },
  {
   "cell_type": "code",
   "execution_count": 57,
   "metadata": {},
   "outputs": [],
   "source": [
    "testdf['revenue'] = testdf['converted']*testdf['price']"
   ]
  },
  {
   "cell_type": "code",
   "execution_count": 78,
   "metadata": {},
   "outputs": [
    {
     "name": "stdout",
     "output_type": "stream",
     "text": [
      "Unnamed: 0 316800\n",
      "user_id 316800\n",
      "timestamp 141147\n",
      "source 13\n",
      "device 2\n",
      "operative_system 9\n",
      "test 2\n",
      "price 3076\n",
      "converted 2\n",
      "revenue 62\n"
     ]
    }
   ],
   "source": [
    "for col in testdf:\n",
    "    print(col, testdf[col].nunique())"
   ]
  },
  {
   "cell_type": "markdown",
   "metadata": {},
   "source": [
    "Check for 'operative_system' and 'price' as there should be so many unique values"
   ]
  },
  {
   "cell_type": "markdown",
   "metadata": {},
   "source": [
    "## operative_systme"
   ]
  },
  {
   "cell_type": "code",
   "execution_count": 92,
   "metadata": {},
   "outputs": [
    {
     "data": {
      "text/plain": [
       "array(['iOS', 'android', 'mac', 'windows', 'nan', 'apple'], dtype=object)"
      ]
     },
     "execution_count": 92,
     "metadata": {},
     "output_type": "execute_result"
    }
   ],
   "source": [
    "testdf.rename(columns={'operative_system':'OS'}, inplace = True)\n",
    "testdf['OS'].unique()"
   ]
  },
  {
   "cell_type": "code",
   "execution_count": 93,
   "metadata": {},
   "outputs": [
    {
     "data": {
      "text/plain": [
       "array(['iOS', 'android', 'mac', 'windows', 'nan', 'apple'], dtype=object)"
      ]
     },
     "execution_count": 93,
     "metadata": {},
     "output_type": "execute_result"
    }
   ],
   "source": [
    "# change i0S to ios, and change wnddows to 'windows', anroid to android\n",
    "testdf['OS'].replace('i0S', 'iOS', inplace = True)\n",
    "testdf['OS'].replace('wnddows', 'windows', inplace = True)\n",
    "testdf['OS'].replace('anroid', 'android', inplace = True)\n",
    "testdf['OS'].unique()"
   ]
  },
  {
   "cell_type": "markdown",
   "metadata": {},
   "source": [
    "## Price"
   ]
  },
  {
   "cell_type": "code",
   "execution_count": 88,
   "metadata": {},
   "outputs": [
    {
     "data": {
      "text/plain": [
       "price\n",
       "39.0           200747\n",
       "59.0           112979\n",
       "324680531.0         1\n",
       "325355094.0         1\n",
       "325373202.0         1\n",
       "                ...  \n",
       "998765098.0         1\n",
       "999139431.0         1\n",
       "999173836.0         1\n",
       "999762858.0         1\n",
       "999884279.0         1\n",
       "Name: price, Length: 3076, dtype: int64"
      ]
     },
     "execution_count": 88,
     "metadata": {},
     "output_type": "execute_result"
    }
   ],
   "source": [
    "testdf.groupby('price')['price'].count()"
   ]
  },
  {
   "cell_type": "code",
   "execution_count": 91,
   "metadata": {},
   "outputs": [
    {
     "data": {
      "text/plain": [
       "(313726, 10)"
      ]
     },
     "execution_count": 91,
     "metadata": {},
     "output_type": "execute_result"
    }
   ],
   "source": [
    "# remove the wrong price\n",
    "testdf = testdf[testdf['price']<60]\n",
    "testdf.shape"
   ]
  },
  {
   "cell_type": "markdown",
   "metadata": {},
   "source": [
    "# Check if test and control group is randomly splitted?"
   ]
  },
  {
   "cell_type": "code",
   "execution_count": 95,
   "metadata": {},
   "outputs": [],
   "source": [
    "from sklearn.preprocessing import LabelEncoder\n",
    "X = testdf.copy()\n",
    "\n",
    "# to use sklearn to check feature importance, we must convert string values to numbers\n",
    "src_label_encoder = LabelEncoder()\n",
    "dev_label_encoder = LabelEncoder()\n",
    "os_label_encoder = LabelEncoder()\n",
    "\n",
    "X[\"source\"] = src_label_encoder.fit_transform(testdf.source)\n",
    "X[\"device\"] = dev_label_encoder.fit_transform(testdf.device)\n",
    "X[\"OS\"] = os_label_encoder.fit_transform(testdf.OS)"
   ]
  },
  {
   "cell_type": "markdown",
   "metadata": {},
   "source": [
    "Run Chi-square test\n",
    "- non hypothesis: test vs control are random"
   ]
  },
  {
   "cell_type": "code",
   "execution_count": 96,
   "metadata": {},
   "outputs": [
    {
     "data": {
      "text/html": [
       "<div>\n",
       "<style scoped>\n",
       "    .dataframe tbody tr th:only-of-type {\n",
       "        vertical-align: middle;\n",
       "    }\n",
       "\n",
       "    .dataframe tbody tr th {\n",
       "        vertical-align: top;\n",
       "    }\n",
       "\n",
       "    .dataframe thead th {\n",
       "        text-align: right;\n",
       "    }\n",
       "</style>\n",
       "<table border=\"1\" class=\"dataframe\">\n",
       "  <thead>\n",
       "    <tr style=\"text-align: right;\">\n",
       "      <th></th>\n",
       "      <th>chi2_value</th>\n",
       "      <th>pvalue</th>\n",
       "    </tr>\n",
       "  </thead>\n",
       "  <tbody>\n",
       "    <tr>\n",
       "      <th>OS</th>\n",
       "      <td>76.659430</td>\n",
       "      <td>2.031338e-18</td>\n",
       "    </tr>\n",
       "    <tr>\n",
       "      <th>device</th>\n",
       "      <td>44.597887</td>\n",
       "      <td>2.419527e-11</td>\n",
       "    </tr>\n",
       "    <tr>\n",
       "      <th>source</th>\n",
       "      <td>0.475361</td>\n",
       "      <td>4.905312e-01</td>\n",
       "    </tr>\n",
       "  </tbody>\n",
       "</table>\n",
       "</div>"
      ],
      "text/plain": [
       "        chi2_value        pvalue\n",
       "OS       76.659430  2.031338e-18\n",
       "device   44.597887  2.419527e-11\n",
       "source    0.475361  4.905312e-01"
      ]
     },
     "execution_count": 96,
     "metadata": {},
     "output_type": "execute_result"
    }
   ],
   "source": [
    "from sklearn.feature_selection import chi2\n",
    "colnames = ['source','device','OS']\n",
    "ch2values,pvalues = chi2(X.loc[:,colnames],X[\"test\"])\n",
    "pd.DataFrame({'chi2_value':ch2values,'pvalue':pvalues},index = colnames).sort_values(by='pvalue')"
   ]
  },
  {
   "cell_type": "markdown",
   "metadata": {},
   "source": [
    "From the results, OS and device are dependent of the group split, so need to check"
   ]
  },
  {
   "cell_type": "code",
   "execution_count": 101,
   "metadata": {},
   "outputs": [
    {
     "data": {
      "text/html": [
       "<div>\n",
       "<style scoped>\n",
       "    .dataframe tbody tr th:only-of-type {\n",
       "        vertical-align: middle;\n",
       "    }\n",
       "\n",
       "    .dataframe tbody tr th {\n",
       "        vertical-align: top;\n",
       "    }\n",
       "\n",
       "    .dataframe thead th {\n",
       "        text-align: right;\n",
       "    }\n",
       "</style>\n",
       "<table border=\"1\" class=\"dataframe\">\n",
       "  <thead>\n",
       "    <tr style=\"text-align: right;\">\n",
       "      <th></th>\n",
       "      <th>0</th>\n",
       "      <th>1</th>\n",
       "      <th>total</th>\n",
       "    </tr>\n",
       "    <tr>\n",
       "      <th>OS</th>\n",
       "      <th></th>\n",
       "      <th></th>\n",
       "      <th></th>\n",
       "    </tr>\n",
       "  </thead>\n",
       "  <tbody>\n",
       "    <tr>\n",
       "      <th>android</th>\n",
       "      <td>0.643383</td>\n",
       "      <td>0.356617</td>\n",
       "      <td>74245.0</td>\n",
       "    </tr>\n",
       "    <tr>\n",
       "      <th>apple</th>\n",
       "      <td>0.620690</td>\n",
       "      <td>0.379310</td>\n",
       "      <td>29.0</td>\n",
       "    </tr>\n",
       "    <tr>\n",
       "      <th>iOS</th>\n",
       "      <td>0.648160</td>\n",
       "      <td>0.351840</td>\n",
       "      <td>94523.0</td>\n",
       "    </tr>\n",
       "    <tr>\n",
       "      <th>mac</th>\n",
       "      <td>0.652780</td>\n",
       "      <td>0.347220</td>\n",
       "      <td>24820.0</td>\n",
       "    </tr>\n",
       "    <tr>\n",
       "      <th>nan</th>\n",
       "      <td>0.625031</td>\n",
       "      <td>0.374969</td>\n",
       "      <td>20119.0</td>\n",
       "    </tr>\n",
       "    <tr>\n",
       "      <th>windows</th>\n",
       "      <td>0.629793</td>\n",
       "      <td>0.370207</td>\n",
       "      <td>99990.0</td>\n",
       "    </tr>\n",
       "  </tbody>\n",
       "</table>\n",
       "</div>"
      ],
      "text/plain": [
       "                0         1    total\n",
       "OS                                  \n",
       "android  0.643383  0.356617  74245.0\n",
       "apple    0.620690  0.379310     29.0\n",
       "iOS      0.648160  0.351840  94523.0\n",
       "mac      0.652780  0.347220  24820.0\n",
       "nan      0.625031  0.374969  20119.0\n",
       "windows  0.629793  0.370207  99990.0"
      ]
     },
     "execution_count": 101,
     "metadata": {},
     "output_type": "execute_result"
    }
   ],
   "source": [
    "def calc_ratios(s):\n",
    "    d = s.value_counts(normalize=True)\n",
    "    d['total'] = s.shape[0]\n",
    "    return d\n",
    "test_ctrl_by_os = testdf.groupby('OS')['test'].apply(calc_ratios).unstack()\n",
    "test_ctrl_by_os "
   ]
  },
  {
   "cell_type": "markdown",
   "metadata": {},
   "source": [
    "we can see that OS distribution in test/control groups are different.\n",
    "\n",
    "the experiment claim that '66% of the users have seen the old price (39), while a random sample of 33% users a higher price (59).', but users from nan and windows don't exactly obey such rule, where normally 37% users see a higher price. "
   ]
  },
  {
   "cell_type": "markdown",
   "metadata": {},
   "source": [
    "# Q1. which price (39, 59) should the company sell?"
   ]
  },
  {
   "cell_type": "markdown",
   "metadata": {},
   "source": [
    "## Conversion rate"
   ]
  },
  {
   "cell_type": "code",
   "execution_count": 106,
   "metadata": {},
   "outputs": [
    {
     "name": "stdout",
     "output_type": "stream",
     "text": [
      "conversion rate with new price is 0.015541426091884808\n",
      "conversion rate with old price is 0.019890240137050427\n"
     ]
    }
   ],
   "source": [
    "# new price $ 59\n",
    "new_Conv = testdf[testdf['test'] == 1]['converted'].mean()\n",
    "print(f'conversion rate with new price is {new_Conv}')\n",
    "\n",
    "# old price $ 39\n",
    "old_Conv = testdf[testdf['test'] == 0]['converted'].mean()\n",
    "print(f'conversion rate with old price is {old_Conv}')"
   ]
  },
  {
   "cell_type": "markdown",
   "metadata": {},
   "source": [
    "From the conversion rate, the new price will lower the conversion rate "
   ]
  },
  {
   "cell_type": "markdown",
   "metadata": {},
   "source": [
    "## Average Revenue"
   ]
  },
  {
   "cell_type": "code",
   "execution_count": 107,
   "metadata": {},
   "outputs": [
    {
     "name": "stdout",
     "output_type": "stream",
     "text": [
      "Average revenue with new price is 0.9167670291523502\n",
      "Average revenue with old price is 0.7757193653449667\n"
     ]
    }
   ],
   "source": [
    "# new price $ 59\n",
    "new_averReve = testdf[testdf['test'] == 1]['revenue'].mean()\n",
    "print(f'Average revenue with new price is {new_averReve}')\n",
    "\n",
    "# old price $ 39\n",
    "old_averReve = testdf[testdf['test'] == 0]['converted'].sum()*39 /oldNum\n",
    "print(f'Average revenue with old price is {old_averReve}')"
   ]
  },
  {
   "cell_type": "markdown",
   "metadata": {},
   "source": [
    "Clearly, the average revenue with the new price is higher than the old price. If use the average revenue as metric, it seems that the new price did better job. But before give the conclusion, need to check if there is statistically difference between the two mean values."
   ]
  },
  {
   "cell_type": "markdown",
   "metadata": {},
   "source": [
    "## T-test for the two means \n",
    "- non hypothesis: there is no difference between the two means\n",
    "- Alternative hypothesis: there is difference between the two means"
   ]
  },
  {
   "cell_type": "code",
   "execution_count": 108,
   "metadata": {},
   "outputs": [
    {
     "name": "stdout",
     "output_type": "stream",
     "text": [
      "ttest_ind: t = 5.67491  p = 1.38971e-08\n"
     ]
    }
   ],
   "source": [
    "# collect data\n",
    "new_Reve = testdf[testdf['test'] == 1]['converted']*59\n",
    "old_Reve = testdf[testdf['test'] == 0]['converted']*39\n",
    "\n",
    "from scipy.stats import ttest_ind, ttest_ind_from_stats\n",
    "t, p = ttest_ind(new_Reve, old_Reve, equal_var=False)\n",
    "print(\"ttest_ind: t = %g  p = %g\" % (t, p))"
   ]
  },
  {
   "cell_type": "markdown",
   "metadata": {},
   "source": [
    "P is 1.31e-8, much smaller than 0.05 (siginificant level), so can reject the non-hypothesis, i.e, there is no difference betwween the two means."
   ]
  },
  {
   "cell_type": "markdown",
   "metadata": {},
   "source": [
    "After the t-test, can conclude that the new price can generate higher average revenue, so should use the new price. \n",
    "\n",
    "However, due to OS distribution aren't random between test/control groups, so price is not the only factor influence the revenue. Therefore, to draw a conclusion, I would suggest:\n",
    "\n",
    "1. find the reason why nan and windows users has a lower ratio in test group than the other OS.\n",
    "2. Run experiment again, and make sure price is the only difference between test and control group. \n"
   ]
  },
  {
   "cell_type": "markdown",
   "metadata": {},
   "source": [
    "# Q2. How to increase conversion rate"
   ]
  },
  {
   "cell_type": "markdown",
   "metadata": {},
   "source": [
    "## Merge the data of test_result and user infos"
   ]
  },
  {
   "cell_type": "code",
   "execution_count": 109,
   "metadata": {},
   "outputs": [],
   "source": [
    "df = pd.merge(testdf, userdf, how= 'left', on = 'user_id')"
   ]
  },
  {
   "cell_type": "markdown",
   "metadata": {},
   "source": [
    "##  EDA and data manipulation"
   ]
  },
  {
   "cell_type": "code",
   "execution_count": 110,
   "metadata": {},
   "outputs": [
    {
     "data": {
      "text/html": [
       "<div>\n",
       "<style scoped>\n",
       "    .dataframe tbody tr th:only-of-type {\n",
       "        vertical-align: middle;\n",
       "    }\n",
       "\n",
       "    .dataframe tbody tr th {\n",
       "        vertical-align: top;\n",
       "    }\n",
       "\n",
       "    .dataframe thead th {\n",
       "        text-align: right;\n",
       "    }\n",
       "</style>\n",
       "<table border=\"1\" class=\"dataframe\">\n",
       "  <thead>\n",
       "    <tr style=\"text-align: right;\">\n",
       "      <th></th>\n",
       "      <th>Unnamed: 0</th>\n",
       "      <th>user_id</th>\n",
       "      <th>timestamp</th>\n",
       "      <th>source</th>\n",
       "      <th>device</th>\n",
       "      <th>OS</th>\n",
       "      <th>test</th>\n",
       "      <th>price</th>\n",
       "      <th>converted</th>\n",
       "      <th>revenue</th>\n",
       "      <th>city</th>\n",
       "      <th>country</th>\n",
       "      <th>lat</th>\n",
       "      <th>long</th>\n",
       "    </tr>\n",
       "  </thead>\n",
       "  <tbody>\n",
       "    <tr>\n",
       "      <th>0</th>\n",
       "      <td>0</td>\n",
       "      <td>604839</td>\n",
       "      <td>2015-05-08 03:38:34</td>\n",
       "      <td>ads_facebook</td>\n",
       "      <td>mobile</td>\n",
       "      <td>iOS</td>\n",
       "      <td>0</td>\n",
       "      <td>39.0</td>\n",
       "      <td>0</td>\n",
       "      <td>0.0</td>\n",
       "      <td>Buffalo</td>\n",
       "      <td>USA</td>\n",
       "      <td>42.89</td>\n",
       "      <td>-78.86</td>\n",
       "    </tr>\n",
       "    <tr>\n",
       "      <th>1</th>\n",
       "      <td>1</td>\n",
       "      <td>624057</td>\n",
       "      <td>2015-05-10 21:08:46</td>\n",
       "      <td>seo-google</td>\n",
       "      <td>mobile</td>\n",
       "      <td>android</td>\n",
       "      <td>0</td>\n",
       "      <td>39.0</td>\n",
       "      <td>0</td>\n",
       "      <td>0.0</td>\n",
       "      <td>Lakeville</td>\n",
       "      <td>USA</td>\n",
       "      <td>44.68</td>\n",
       "      <td>-93.24</td>\n",
       "    </tr>\n",
       "    <tr>\n",
       "      <th>2</th>\n",
       "      <td>2</td>\n",
       "      <td>317970</td>\n",
       "      <td>2015-04-04 15:01:23</td>\n",
       "      <td>ads-bing</td>\n",
       "      <td>mobile</td>\n",
       "      <td>android</td>\n",
       "      <td>0</td>\n",
       "      <td>39.0</td>\n",
       "      <td>0</td>\n",
       "      <td>0.0</td>\n",
       "      <td>Parma</td>\n",
       "      <td>USA</td>\n",
       "      <td>41.38</td>\n",
       "      <td>-81.73</td>\n",
       "    </tr>\n",
       "    <tr>\n",
       "      <th>3</th>\n",
       "      <td>3</td>\n",
       "      <td>685636</td>\n",
       "      <td>2015-05-07 07:26:01</td>\n",
       "      <td>direct_traffic</td>\n",
       "      <td>mobile</td>\n",
       "      <td>iOS</td>\n",
       "      <td>1</td>\n",
       "      <td>59.0</td>\n",
       "      <td>0</td>\n",
       "      <td>0.0</td>\n",
       "      <td>Fayetteville</td>\n",
       "      <td>USA</td>\n",
       "      <td>35.07</td>\n",
       "      <td>-78.90</td>\n",
       "    </tr>\n",
       "    <tr>\n",
       "      <th>4</th>\n",
       "      <td>4</td>\n",
       "      <td>820854</td>\n",
       "      <td>2015-05-24 11:04:40</td>\n",
       "      <td>ads_facebook</td>\n",
       "      <td>web</td>\n",
       "      <td>mac</td>\n",
       "      <td>0</td>\n",
       "      <td>39.0</td>\n",
       "      <td>0</td>\n",
       "      <td>0.0</td>\n",
       "      <td>Fishers</td>\n",
       "      <td>USA</td>\n",
       "      <td>39.95</td>\n",
       "      <td>-86.02</td>\n",
       "    </tr>\n",
       "  </tbody>\n",
       "</table>\n",
       "</div>"
      ],
      "text/plain": [
       "   Unnamed: 0  user_id            timestamp          source  device       OS  \\\n",
       "0           0   604839  2015-05-08 03:38:34    ads_facebook  mobile      iOS   \n",
       "1           1   624057  2015-05-10 21:08:46      seo-google  mobile  android   \n",
       "2           2   317970  2015-04-04 15:01:23        ads-bing  mobile  android   \n",
       "3           3   685636  2015-05-07 07:26:01  direct_traffic  mobile      iOS   \n",
       "4           4   820854  2015-05-24 11:04:40    ads_facebook     web      mac   \n",
       "\n",
       "   test  price  converted  revenue          city country    lat   long  \n",
       "0     0   39.0          0      0.0       Buffalo     USA  42.89 -78.86  \n",
       "1     0   39.0          0      0.0     Lakeville     USA  44.68 -93.24  \n",
       "2     0   39.0          0      0.0         Parma     USA  41.38 -81.73  \n",
       "3     1   59.0          0      0.0  Fayetteville     USA  35.07 -78.90  \n",
       "4     0   39.0          0      0.0       Fishers     USA  39.95 -86.02  "
      ]
     },
     "execution_count": 110,
     "metadata": {},
     "output_type": "execute_result"
    }
   ],
   "source": [
    "df.head()"
   ]
  },
  {
   "cell_type": "code",
   "execution_count": 111,
   "metadata": {},
   "outputs": [
    {
     "name": "stdout",
     "output_type": "stream",
     "text": [
      "<class 'pandas.core.frame.DataFrame'>\n",
      "Int64Index: 313726 entries, 0 to 313725\n",
      "Data columns (total 14 columns):\n",
      " #   Column      Non-Null Count   Dtype  \n",
      "---  ------      --------------   -----  \n",
      " 0   Unnamed: 0  313726 non-null  int64  \n",
      " 1   user_id     313726 non-null  int64  \n",
      " 2   timestamp   313396 non-null  object \n",
      " 3   source      313726 non-null  object \n",
      " 4   device      313726 non-null  object \n",
      " 5   OS          313726 non-null  object \n",
      " 6   test        313726 non-null  int64  \n",
      " 7   price       313726 non-null  float64\n",
      " 8   converted   313726 non-null  int64  \n",
      " 9   revenue     313726 non-null  float64\n",
      " 10  city        272941 non-null  object \n",
      " 11  country     272941 non-null  object \n",
      " 12  lat         272941 non-null  float64\n",
      " 13  long        272941 non-null  float64\n",
      "dtypes: float64(4), int64(4), object(6)\n",
      "memory usage: 35.9+ MB\n"
     ]
    }
   ],
   "source": [
    "df.info()"
   ]
  },
  {
   "cell_type": "code",
   "execution_count": 113,
   "metadata": {},
   "outputs": [],
   "source": [
    "# fill na\n",
    "df['city'].fillna('nan', inplace = True) "
   ]
  },
  {
   "cell_type": "markdown",
   "metadata": {},
   "source": [
    "## Chi-square test"
   ]
  },
  {
   "cell_type": "code",
   "execution_count": 114,
   "metadata": {},
   "outputs": [],
   "source": [
    "from sklearn.preprocessing import LabelEncoder\n",
    "X = df.copy()\n",
    "\n",
    "# to use sklearn to check feature importance, we must convert string values to numbers\n",
    "src_label_encoder = LabelEncoder()\n",
    "dev_label_encoder = LabelEncoder()\n",
    "os_label_encoder = LabelEncoder()\n",
    "\n",
    "X[\"source\"] = src_label_encoder.fit_transform(df.source)\n",
    "X[\"device\"] = dev_label_encoder.fit_transform(df.device)\n",
    "X[\"OS\"] = os_label_encoder.fit_transform(df.OS)\n",
    "X[\"city\"] = os_label_encoder.fit_transform(df.city)"
   ]
  },
  {
   "cell_type": "code",
   "execution_count": 118,
   "metadata": {},
   "outputs": [
    {
     "data": {
      "text/html": [
       "<div>\n",
       "<style scoped>\n",
       "    .dataframe tbody tr th:only-of-type {\n",
       "        vertical-align: middle;\n",
       "    }\n",
       "\n",
       "    .dataframe tbody tr th {\n",
       "        vertical-align: top;\n",
       "    }\n",
       "\n",
       "    .dataframe thead th {\n",
       "        text-align: right;\n",
       "    }\n",
       "</style>\n",
       "<table border=\"1\" class=\"dataframe\">\n",
       "  <thead>\n",
       "    <tr style=\"text-align: right;\">\n",
       "      <th></th>\n",
       "      <th>chi2_value</th>\n",
       "      <th>pvalue</th>\n",
       "    </tr>\n",
       "  </thead>\n",
       "  <tbody>\n",
       "    <tr>\n",
       "      <th>city</th>\n",
       "      <td>192.809452</td>\n",
       "      <td>7.746607e-44</td>\n",
       "    </tr>\n",
       "    <tr>\n",
       "      <th>price</th>\n",
       "      <td>148.688241</td>\n",
       "      <td>3.354959e-34</td>\n",
       "    </tr>\n",
       "    <tr>\n",
       "      <th>source</th>\n",
       "      <td>6.028425</td>\n",
       "      <td>1.407729e-02</td>\n",
       "    </tr>\n",
       "    <tr>\n",
       "      <th>device</th>\n",
       "      <td>0.689592</td>\n",
       "      <td>4.063032e-01</td>\n",
       "    </tr>\n",
       "    <tr>\n",
       "      <th>OS</th>\n",
       "      <td>0.033367</td>\n",
       "      <td>8.550593e-01</td>\n",
       "    </tr>\n",
       "  </tbody>\n",
       "</table>\n",
       "</div>"
      ],
      "text/plain": [
       "        chi2_value        pvalue\n",
       "city    192.809452  7.746607e-44\n",
       "price   148.688241  3.354959e-34\n",
       "source    6.028425  1.407729e-02\n",
       "device    0.689592  4.063032e-01\n",
       "OS        0.033367  8.550593e-01"
      ]
     },
     "execution_count": 118,
     "metadata": {},
     "output_type": "execute_result"
    }
   ],
   "source": [
    "colnames = [\"source\",\"device\",\"OS\",'price','city']\n",
    "ch2values,pvalues = chi2(X.loc[:,colnames],X[\"converted\"])\n",
    "pd.DataFrame({'chi2_value':ch2values,'pvalue':pvalues},index = colnames).sort_values(by='pvalue')"
   ]
  },
  {
   "cell_type": "markdown",
   "metadata": {},
   "source": [
    "From the chi-square test, we see the city, price and source are the three main factos impacting the counversion. "
   ]
  },
  {
   "cell_type": "markdown",
   "metadata": {},
   "source": [
    "### Effect of price"
   ]
  },
  {
   "cell_type": "code",
   "execution_count": 120,
   "metadata": {},
   "outputs": [
    {
     "name": "stdout",
     "output_type": "stream",
     "text": [
      "conversion rate with new price is 0.015541426091884808\n",
      "conversion rate with old price is 0.019890240137050427\n"
     ]
    }
   ],
   "source": [
    "# new price $ 59\n",
    "new_Conv = df[df['test'] == 1]['converted'].mean()\n",
    "print(f'conversion rate with new price is {new_Conv}')\n",
    "\n",
    "# old price $ 39\n",
    "old_Conv = df[df['test'] == 0]['converted'].mean()\n",
    "print(f'conversion rate with old price is {old_Conv}')"
   ]
  },
  {
   "cell_type": "code",
   "execution_count": 125,
   "metadata": {},
   "outputs": [
    {
     "data": {
      "text/plain": [
       "<matplotlib.lines.Line2D at 0x1d5e5286f10>"
      ]
     },
     "execution_count": 125,
     "metadata": {},
     "output_type": "execute_result"
    },
    {
     "data": {
      "image/png": "[encoded data removed]",
      "text/plain": [
       "<Figure size 360x288 with 1 Axes>"
      ]
     },
     "metadata": {
      "needs_background": "light"
     },
     "output_type": "display_data"
    }
   ],
   "source": [
    "df.groupby(['price'])['converted'].mean().plot.bar(figsize=[5,4])\n",
    "baseline = df['converted'].mean()\n",
    "# plt.gca().set_ylim([20,100])\n",
    "plt.gca().axhline(y=baseline, linewidth=1, color='r',linestyle='--')"
   ]
  },
  {
   "cell_type": "markdown",
   "metadata": {},
   "source": [
    "Lower price has higher conversion rate."
   ]
  },
  {
   "cell_type": "markdown",
   "metadata": {},
   "source": [
    "### Effect of city "
   ]
  },
  {
   "cell_type": "code",
   "execution_count": 132,
   "metadata": {},
   "outputs": [
    {
     "data": {
      "text/plain": [
       "<matplotlib.lines.Line2D at 0x1d5de135a00>"
      ]
     },
     "execution_count": 132,
     "metadata": {},
     "output_type": "execute_result"
    },
    {
     "data": {
      "image/png": "[encoded data removed]",
      "text/plain": [
       "<Figure size 576x288 with 1 Axes>"
      ]
     },
     "metadata": {
      "needs_background": "light"
     },
     "output_type": "display_data"
    }
   ],
   "source": [
    "df.groupby(['city'])['converted'].mean().plot(figsize=[8,4])\n",
    "baseline = df['converted'].mean()\n",
    "# plt.gca().set_ylim([20,100])\n",
    "plt.gca().axhline(y=baseline, linewidth=1, color='r',linestyle='--')"
   ]
  },
  {
   "cell_type": "code",
   "execution_count": 141,
   "metadata": {},
   "outputs": [
    {
     "data": {
      "text/html": [
       "<div>\n",
       "<style scoped>\n",
       "    .dataframe tbody tr th:only-of-type {\n",
       "        vertical-align: middle;\n",
       "    }\n",
       "\n",
       "    .dataframe tbody tr th {\n",
       "        vertical-align: top;\n",
       "    }\n",
       "\n",
       "    .dataframe thead th {\n",
       "        text-align: right;\n",
       "    }\n",
       "</style>\n",
       "<table border=\"1\" class=\"dataframe\">\n",
       "  <thead>\n",
       "    <tr style=\"text-align: right;\">\n",
       "      <th></th>\n",
       "      <th>city</th>\n",
       "      <th>converted</th>\n",
       "    </tr>\n",
       "  </thead>\n",
       "  <tbody>\n",
       "    <tr>\n",
       "      <th>561</th>\n",
       "      <td>North Atlanta</td>\n",
       "      <td>0.200000</td>\n",
       "    </tr>\n",
       "    <tr>\n",
       "      <th>135</th>\n",
       "      <td>Catonsville</td>\n",
       "      <td>0.153846</td>\n",
       "    </tr>\n",
       "    <tr>\n",
       "      <th>708</th>\n",
       "      <td>Saint Charles</td>\n",
       "      <td>0.142857</td>\n",
       "    </tr>\n",
       "    <tr>\n",
       "      <th>611</th>\n",
       "      <td>Parkway-South Sacramento</td>\n",
       "      <td>0.117647</td>\n",
       "    </tr>\n",
       "    <tr>\n",
       "      <th>280</th>\n",
       "      <td>Findlay</td>\n",
       "      <td>0.111111</td>\n",
       "    </tr>\n",
       "    <tr>\n",
       "      <th>77</th>\n",
       "      <td>Blue Springs</td>\n",
       "      <td>0.105263</td>\n",
       "    </tr>\n",
       "    <tr>\n",
       "      <th>81</th>\n",
       "      <td>Bonita Springs</td>\n",
       "      <td>0.090909</td>\n",
       "    </tr>\n",
       "    <tr>\n",
       "      <th>447</th>\n",
       "      <td>Lehigh Acres</td>\n",
       "      <td>0.086957</td>\n",
       "    </tr>\n",
       "    <tr>\n",
       "      <th>613</th>\n",
       "      <td>Parsippany-Troy Hills Township</td>\n",
       "      <td>0.081081</td>\n",
       "    </tr>\n",
       "    <tr>\n",
       "      <th>801</th>\n",
       "      <td>Sun City</td>\n",
       "      <td>0.078652</td>\n",
       "    </tr>\n",
       "  </tbody>\n",
       "</table>\n",
       "</div>"
      ],
      "text/plain": [
       "                               city  converted\n",
       "561                   North Atlanta   0.200000\n",
       "135                     Catonsville   0.153846\n",
       "708                   Saint Charles   0.142857\n",
       "611        Parkway-South Sacramento   0.117647\n",
       "280                         Findlay   0.111111\n",
       "77                     Blue Springs   0.105263\n",
       "81                   Bonita Springs   0.090909\n",
       "447                    Lehigh Acres   0.086957\n",
       "613  Parsippany-Troy Hills Township   0.081081\n",
       "801                        Sun City   0.078652"
      ]
     },
     "execution_count": 141,
     "metadata": {},
     "output_type": "execute_result"
    }
   ],
   "source": [
    "dfcity = df.groupby(['city'])['converted'].mean().reset_index()\n",
    "dfcity.sort_values('converted', ascending=False).head(10)"
   ]
  },
  {
   "cell_type": "markdown",
   "metadata": {},
   "source": [
    "In these 10 cities, the conversion rate is much higher than the average values. "
   ]
  },
  {
   "cell_type": "markdown",
   "metadata": {},
   "source": [
    "### Effect of source"
   ]
  },
  {
   "cell_type": "code",
   "execution_count": 142,
   "metadata": {},
   "outputs": [
    {
     "data": {
      "text/plain": [
       "<matplotlib.lines.Line2D at 0x1d5e6196e80>"
      ]
     },
     "execution_count": 142,
     "metadata": {},
     "output_type": "execute_result"
    },
    {
     "data": {
      "image/png": "[encoded data removed]",
      "text/plain": [
       "<Figure size 360x288 with 1 Axes>"
      ]
     },
     "metadata": {
      "needs_background": "light"
     },
     "output_type": "display_data"
    }
   ],
   "source": [
    "df.groupby(['source'])['converted'].mean().plot.bar(figsize=[5,4])\n",
    "baseline = df['converted'].mean()\n",
    "# plt.gca().set_ylim([20,100])\n",
    "plt.gca().axhline(y=baseline, linewidth=1, color='r',linestyle='--')"
   ]
  },
  {
   "cell_type": "markdown",
   "metadata": {},
   "source": [
    "Users from Friend ref, seo-bing, ads-goolge and adds-facebook have higher conversion rate."
   ]
  },
  {
   "cell_type": "markdown",
   "metadata": {},
   "source": [
    "### Effect of OS"
   ]
  },
  {
   "cell_type": "code",
   "execution_count": 143,
   "metadata": {},
   "outputs": [
    {
     "data": {
      "text/plain": [
       "<matplotlib.lines.Line2D at 0x1d5e612d1c0>"
      ]
     },
     "execution_count": 143,
     "metadata": {},
     "output_type": "execute_result"
    },
    {
     "data": {
      "image/png": "[encoded data removed]",
      "text/plain": [
       "<Figure size 360x288 with 1 Axes>"
      ]
     },
     "metadata": {
      "needs_background": "light"
     },
     "output_type": "display_data"
    }
   ],
   "source": [
    "df.groupby(['OS'])['converted'].mean().plot.bar(figsize=[5,4])\n",
    "baseline = df['converted'].mean()\n",
    "# plt.gca().set_ylim([20,100])\n",
    "plt.gca().axhline(y=baseline, linewidth=1, color='r',linestyle='--')"
   ]
  },
  {
   "cell_type": "markdown",
   "metadata": {},
   "source": [
    "Users using iOS and mac have higher conversion rate."
   ]
  },
  {
   "cell_type": "markdown",
   "metadata": {},
   "source": [
    "### Effect of device"
   ]
  },
  {
   "cell_type": "code",
   "execution_count": 144,
   "metadata": {},
   "outputs": [
    {
     "data": {
      "text/plain": [
       "<matplotlib.lines.Line2D at 0x1d5e6201550>"
      ]
     },
     "execution_count": 144,
     "metadata": {},
     "output_type": "execute_result"
    },
    {
     "data": {
      "image/png": "[encoded data removed]",
      "text/plain": [
       "<Figure size 360x288 with 1 Axes>"
      ]
     },
     "metadata": {
      "needs_background": "light"
     },
     "output_type": "display_data"
    }
   ],
   "source": [
    "df.groupby(['device'])['converted'].mean().plot.bar(figsize=[5,4])\n",
    "baseline = df['converted'].mean()\n",
    "# plt.gca().set_ylim([20,100])\n",
    "plt.gca().axhline(y=baseline, linewidth=1, color='r',linestyle='--')"
   ]
  },
  {
   "cell_type": "markdown",
   "metadata": {},
   "source": [
    "## Decision tree"
   ]
  },
  {
   "cell_type": "markdown",
   "metadata": {},
   "source": [
    "To derive actionable plan, I want to use the decision tree to find what is the top important features influcing the conversion. Since the model is for derive plan, I will just fit a shallow Decision Tree on all the data, without giving out model's performance on test set."
   ]
  },
  {
   "cell_type": "code",
   "execution_count": 159,
   "metadata": {},
   "outputs": [],
   "source": [
    "Xtrain = X[colnames]\n",
    "ytrain = X.loc[:,'converted']\n",
    "\n",
    "# One-Hot-Encoding on categorical features\n",
    "Xtrain = pd.get_dummies(Xtrain)"
   ]
  },
  {
   "cell_type": "code",
   "execution_count": 160,
   "metadata": {},
   "outputs": [
    {
     "data": {
      "text/plain": [
       "DecisionTreeClassifier(max_depth=4)"
      ]
     },
     "execution_count": 160,
     "metadata": {},
     "output_type": "execute_result"
    }
   ],
   "source": [
    "from sklearn.tree import DecisionTreeClassifier,export_graphviz\n",
    "dt = DecisionTreeClassifier(max_depth=4)\n",
    "dt.fit(Xtrain,ytrain)"
   ]
  },
  {
   "cell_type": "code",
   "execution_count": 163,
   "metadata": {},
   "outputs": [],
   "source": [
    "dotfile = open(\"I:\\google drive\\insight\\data challenge\\DC2\\softwarePricing-master/dtree2.dot\", 'w')\n",
    "sklearn.tree.export_graphviz(dt,feature_names=Xtrain.columns,proportion=True,leaves_parallel=True)\n",
    "dotfile.close()"
   ]
  },
  {
   "cell_type": "markdown",
   "metadata": {},
   "source": [
    "## Actionable plan"
   ]
  },
  {
   "cell_type": "markdown",
   "metadata": {},
   "source": [
    "#### friend_referral, Apple user (MAC or iOS), low price, and serveral specific cities are the four great positive factors which improve the conversion rate, specific plans as follows:\n",
    "\n",
    "- Encourage friend refer: such as rewards user which can invite his/her friend to use our software.\n",
    "\n",
    "- Increase the price will decrease the conversion rate, we must compensate on the other factors, such as lauch special marketing program targeted to Apple users (MAC or iOS users) or post more ads in specific cities. \n",
    "\n",
    "- windows and nan (guess should be Linux) users don't like our software as much as users on other OS. Development team should find out the reason. For example, is there any incompatibility issue on Linux?"
   ]
  },
  {
   "cell_type": "markdown",
   "metadata": {},
   "source": [
    "# Q3: When should stop the test?"
   ]
  },
  {
   "cell_type": "markdown",
   "metadata": {},
   "source": [
    "Definitely we can do a power analysis for it, but since we already get the data, so we can directly analysis when we already get statistically significant results."
   ]
  },
  {
   "cell_type": "code",
   "execution_count": 180,
   "metadata": {},
   "outputs": [
    {
     "data": {
      "text/plain": [
       "Timedelta('90 days 23:55:33')"
      ]
     },
     "execution_count": 180,
     "metadata": {},
     "output_type": "execute_result"
    }
   ],
   "source": [
    "df['date'] = pd.to_datetime(df['timestamp'], errors='coerce')\n",
    "df['date'].max() - df['date'].min()"
   ]
  },
  {
   "cell_type": "code",
   "execution_count": 178,
   "metadata": {},
   "outputs": [
    {
     "name": "stderr",
     "output_type": "stream",
     "text": [
      "<ipython-input-178-bd1ff24cf81e>:2: SettingWithCopyWarning: \n",
      "A value is trying to be set on a copy of a slice from a DataFrame.\n",
      "Try using .loc[row_indexer,col_indexer] = value instead\n",
      "\n",
      "See the caveats in the documentation: https://pandas.pydata.org/pandas-docs/stable/user_guide/indexing.html#returning-a-view-versus-a-copy\n",
      "  dfc['days'] =((dfc['date'] - dfc['date'].min()).dt.total_seconds()/3600/24).astype(int)  +1\n"
     ]
    }
   ],
   "source": [
    "dfc = df.dropna()\n",
    "import datetime as dt\n",
    "dfc['days'] =((dfc['date'] - dfc['date'].min()).dt.total_seconds()/3600/24).astype(int)  +1 "
   ]
  },
  {
   "cell_type": "code",
   "execution_count": 179,
   "metadata": {},
   "outputs": [
    {
     "data": {
      "text/html": [
       "<div>\n",
       "<style scoped>\n",
       "    .dataframe tbody tr th:only-of-type {\n",
       "        vertical-align: middle;\n",
       "    }\n",
       "\n",
       "    .dataframe tbody tr th {\n",
       "        vertical-align: top;\n",
       "    }\n",
       "\n",
       "    .dataframe thead th {\n",
       "        text-align: right;\n",
       "    }\n",
       "</style>\n",
       "<table border=\"1\" class=\"dataframe\">\n",
       "  <thead>\n",
       "    <tr style=\"text-align: right;\">\n",
       "      <th></th>\n",
       "      <th>Unnamed: 0</th>\n",
       "      <th>user_id</th>\n",
       "      <th>timestamp</th>\n",
       "      <th>source</th>\n",
       "      <th>device</th>\n",
       "      <th>OS</th>\n",
       "      <th>test</th>\n",
       "      <th>price</th>\n",
       "      <th>converted</th>\n",
       "      <th>revenue</th>\n",
       "      <th>city</th>\n",
       "      <th>country</th>\n",
       "      <th>lat</th>\n",
       "      <th>long</th>\n",
       "      <th>date</th>\n",
       "      <th>days</th>\n",
       "    </tr>\n",
       "  </thead>\n",
       "  <tbody>\n",
       "    <tr>\n",
       "      <th>132058</th>\n",
       "      <td>133340</td>\n",
       "      <td>317750</td>\n",
       "      <td>2015-03-02 08:30:37</td>\n",
       "      <td>ads_facebook</td>\n",
       "      <td>mobile</td>\n",
       "      <td>iOS</td>\n",
       "      <td>1</td>\n",
       "      <td>59.0</td>\n",
       "      <td>0</td>\n",
       "      <td>0.0</td>\n",
       "      <td>Bristol</td>\n",
       "      <td>USA</td>\n",
       "      <td>41.68</td>\n",
       "      <td>-72.94</td>\n",
       "      <td>2015-03-02 08:30:37</td>\n",
       "      <td>1</td>\n",
       "    </tr>\n",
       "    <tr>\n",
       "      <th>209115</th>\n",
       "      <td>211171</td>\n",
       "      <td>496683</td>\n",
       "      <td>2015-03-02 07:10:50</td>\n",
       "      <td>direct_traffic</td>\n",
       "      <td>mobile</td>\n",
       "      <td>iOS</td>\n",
       "      <td>0</td>\n",
       "      <td>39.0</td>\n",
       "      <td>0</td>\n",
       "      <td>0.0</td>\n",
       "      <td>Thousand Oaks</td>\n",
       "      <td>USA</td>\n",
       "      <td>34.19</td>\n",
       "      <td>-118.87</td>\n",
       "      <td>2015-03-02 07:10:50</td>\n",
       "      <td>1</td>\n",
       "    </tr>\n",
       "    <tr>\n",
       "      <th>209197</th>\n",
       "      <td>211254</td>\n",
       "      <td>989244</td>\n",
       "      <td>2015-03-02 11:44:24</td>\n",
       "      <td>ads_facebook</td>\n",
       "      <td>mobile</td>\n",
       "      <td>android</td>\n",
       "      <td>0</td>\n",
       "      <td>39.0</td>\n",
       "      <td>0</td>\n",
       "      <td>0.0</td>\n",
       "      <td>Omaha</td>\n",
       "      <td>USA</td>\n",
       "      <td>41.26</td>\n",
       "      <td>-96.01</td>\n",
       "      <td>2015-03-02 11:44:24</td>\n",
       "      <td>1</td>\n",
       "    </tr>\n",
       "    <tr>\n",
       "      <th>209262</th>\n",
       "      <td>211319</td>\n",
       "      <td>688031</td>\n",
       "      <td>2015-03-02 08:52:13</td>\n",
       "      <td>ads_facebook</td>\n",
       "      <td>web</td>\n",
       "      <td>windows</td>\n",
       "      <td>1</td>\n",
       "      <td>59.0</td>\n",
       "      <td>0</td>\n",
       "      <td>0.0</td>\n",
       "      <td>Nashville</td>\n",
       "      <td>USA</td>\n",
       "      <td>36.17</td>\n",
       "      <td>-86.78</td>\n",
       "      <td>2015-03-02 08:52:13</td>\n",
       "      <td>1</td>\n",
       "    </tr>\n",
       "    <tr>\n",
       "      <th>59924</th>\n",
       "      <td>60514</td>\n",
       "      <td>259720</td>\n",
       "      <td>2015-03-02 17:58:20</td>\n",
       "      <td>ads_facebook</td>\n",
       "      <td>web</td>\n",
       "      <td>mac</td>\n",
       "      <td>0</td>\n",
       "      <td>39.0</td>\n",
       "      <td>0</td>\n",
       "      <td>0.0</td>\n",
       "      <td>Richmond</td>\n",
       "      <td>USA</td>\n",
       "      <td>37.53</td>\n",
       "      <td>-77.47</td>\n",
       "      <td>2015-03-02 17:58:20</td>\n",
       "      <td>1</td>\n",
       "    </tr>\n",
       "  </tbody>\n",
       "</table>\n",
       "</div>"
      ],
      "text/plain": [
       "        Unnamed: 0  user_id            timestamp          source  device  \\\n",
       "132058      133340   317750  2015-03-02 08:30:37    ads_facebook  mobile   \n",
       "209115      211171   496683  2015-03-02 07:10:50  direct_traffic  mobile   \n",
       "209197      211254   989244  2015-03-02 11:44:24    ads_facebook  mobile   \n",
       "209262      211319   688031  2015-03-02 08:52:13    ads_facebook     web   \n",
       "59924        60514   259720  2015-03-02 17:58:20    ads_facebook     web   \n",
       "\n",
       "             OS  test  price  converted  revenue           city country  \\\n",
       "132058      iOS     1   59.0          0      0.0        Bristol     USA   \n",
       "209115      iOS     0   39.0          0      0.0  Thousand Oaks     USA   \n",
       "209197  android     0   39.0          0      0.0          Omaha     USA   \n",
       "209262  windows     1   59.0          0      0.0      Nashville     USA   \n",
       "59924       mac     0   39.0          0      0.0       Richmond     USA   \n",
       "\n",
       "          lat    long                date  days  \n",
       "132058  41.68  -72.94 2015-03-02 08:30:37     1  \n",
       "209115  34.19 -118.87 2015-03-02 07:10:50     1  \n",
       "209197  41.26  -96.01 2015-03-02 11:44:24     1  \n",
       "209262  36.17  -86.78 2015-03-02 08:52:13     1  \n",
       "59924   37.53  -77.47 2015-03-02 17:58:20     1  "
      ]
     },
     "execution_count": 179,
     "metadata": {},
     "output_type": "execute_result"
    }
   ],
   "source": [
    "dfc.sort_values(by = 'days').head()"
   ]
  },
  {
   "cell_type": "code",
   "execution_count": 182,
   "metadata": {},
   "outputs": [
    {
     "name": "stdout",
     "output_type": "stream",
     "text": [
      "ttest_ind: t = 0.796611  p = 0.425942  n = 1326\n",
      "ttest_ind: t = -0.195412  p = 0.845093  n = 2588\n",
      "ttest_ind: t = -1.13932  p = 0.254676  n = 3749\n",
      "ttest_ind: t = 0.0379185  p = 0.969755  n = 6088\n",
      "ttest_ind: t = 1.03603  p = 0.300223  n = 12054\n",
      "ttest_ind: t = 1.75369  p = 0.0795145  n = 16728\n",
      "ttest_ind: t = 1.67306  p = 0.0943401  n = 20512\n",
      "ttest_ind: t = 1.60203  p = 0.109174  n = 21720\n",
      "ttest_ind: t = 1.62471  p = 0.104247  n = 22986\n",
      "ttest_ind: t = 1.81744  p = 0.0691713  n = 24169\n",
      "ttest_ind: t = 2.03323  p = 0.0420465  n = 26571\n"
     ]
    },
    {
     "data": {
      "text/plain": [
       "11"
      ]
     },
     "execution_count": 182,
     "metadata": {},
     "output_type": "execute_result"
    }
   ],
   "source": [
    "def mintesttime(dfc):\n",
    "    for time in range(1, 91):\n",
    "        data = dfc[dfc['days']<=time]\n",
    "        new_Reve = data[data['test'] == 1]['revenue']\n",
    "        old_Reve = data[data['test'] == 0]['revenue']\n",
    "        t, p = ttest_ind(new_Reve, old_Reve, equal_var=False)\n",
    "        n = data.shape[0]\n",
    "        print(\"ttest_ind: t = %g  p = %g  n = %g\" % (t, p, n))\n",
    "        if p <0.05:\n",
    "            return time\n",
    "mintesttime(dfc)"
   ]
  },
  {
   "cell_type": "markdown",
   "metadata": {},
   "source": [
    "At the 11th days (2015-03-12), the p-value is less than 0.05, which means there are statistically significant difference between control group and test group, so can stop the test. "
   ]
  }
 ],
 "metadata": {
  "kernelspec": {
   "display_name": "Python 3",
   "language": "python",
   "name": "python3"
  },
  "language_info": {
   "codemirror_mode": {
    "name": "ipython",
    "version": 3
   },
   "file_extension": ".py",
   "mimetype": "text/x-python",
   "name": "python",
   "nbconvert_exporter": "python",
   "pygments_lexer": "ipython3",
   "version": "3.8.3"
  }
 },
 "nbformat": 4,
 "nbformat_minor": 4
}
